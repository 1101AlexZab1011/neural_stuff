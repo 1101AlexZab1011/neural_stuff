{
 "cells": [
  {
   "cell_type": "code",
   "execution_count": 243,
   "metadata": {},
   "outputs": [],
   "source": [
    "import sys\n",
    "import os\n",
    "current_dir = os.path.dirname(os.path.abspath('./'))\n",
    "if not current_dir in sys.path:\n",
    "    sys.path.append(current_dir)\n",
    "\n",
    "from typing import *\n",
    "from utils.datagen import SignalGenerator\n",
    "import numpy as np\n",
    "import scipy as sp\n",
    "from utils import sample_with_minimum_distance\n",
    "from utils.signal import band_limited_noise, random_walk\n",
    "import random\n",
    "import mne\n",
    "from alltools.console.colored import warn\n",
    "\n",
    "\n",
    "def make_artifacts(tc, center_coords, ratio, artifact_len, max_freq, additional_noise=0):\n",
    "    if not isinstance(center_coords, (list, tuple, np.ndarray)):\n",
    "        center_coords = [center_coords]\n",
    "\n",
    "    artifacts_bounds = []\n",
    "\n",
    "    for center in center_coords:\n",
    "        artifact_startsample = int(max(center - artifact_len//2, 0))\n",
    "        artifact_endsample = artifact_startsample + artifact_len\n",
    "\n",
    "        if artifact_endsample >= len(tc):\n",
    "            artifact_endsample = 0\n",
    "\n",
    "        noise = band_limited_noise(np.random.randint(0, max_freq//2), max_freq, len(tc), 1/500)\n",
    "        changed_len = len(tc[artifact_startsample:artifact_endsample - 1])\n",
    "        tc[artifact_startsample:artifact_endsample - 1] += ratio*noise[artifact_startsample:artifact_endsample - 1] + additional_noise[:changed_len]\n",
    "        artifacts_bounds.append((artifact_startsample, artifact_endsample - 1))\n",
    "\n",
    "    return tc, artifacts_bounds\n",
    "\n",
    "\n",
    "def sequence_hot_encoding(timemaps, seq_len):\n",
    "    out = np.zeros(seq_len)\n",
    "\n",
    "    for timemap in timemaps:\n",
    "        out[timemap[0]: timemap[1]] = 1\n",
    "\n",
    "    return out\n",
    "\n",
    "\n",
    "def sequence_hot_decoding(seq):\n",
    "\n",
    "    all_bounds = list()\n",
    "    current_bounds = list()\n",
    "    current_elem= 0\n",
    "    for i, elem in enumerate(seq):\n",
    "        if elem != current_elem:\n",
    "            current_elem = elem\n",
    "            current_bounds.append(i)\n",
    "            if len(current_bounds) == 2:\n",
    "                all_bounds.append(current_bounds)\n",
    "                current_bounds = list()\n",
    "    return all_bounds\n",
    "\n",
    "\n",
    "class ArtifactsDatasetGenerator(SignalGenerator):\n",
    "    def __init__(\n",
    "        self,\n",
    "        tmin: Union[int, float],\n",
    "        tmax: Union[int, float],\n",
    "        sfreq: int,\n",
    "        n_artifacts: Union[int, tuple[int, int]],\n",
    "        n_channels: int,\n",
    "        hfreq: Optional[int] = None,\n",
    "        artifact_chance: Optional[float] = 1.,\n",
    "        minimum_artifact_len: Optional[float] = .01,\n",
    "        maximum_artifact_len: Optional[float] = 1.,\n",
    "        artifact_negativity_chance: Optional[float] = 0.,\n",
    "        artifact_exploding_chance: Optional[float] = 0.,\n",
    "        artifact_exploding_amplitude_deviation: Optional[Union[float, tuple[float, float]]] = 0.,\n",
    "        artifact_deviation: Optional[float] = 0.,\n",
    "        artifact_amplitude_deviation: Optional[Union[float, tuple[float, float]]] = 1,\n",
    "    ):\n",
    "        super().__init__(tmin, tmax, sfreq)\n",
    "        self._hfreq = self._sfreq//2 if hfreq is None else hfreq\n",
    "        assert self._hfreq <= self._sfreq//2, 'Nyquist criterion not met'\n",
    "        self._n_artifacts = n_artifacts\n",
    "        self._n_channels = n_channels\n",
    "        self._artifact_chance = artifact_chance\n",
    "        dev = int(np.rint(artifact_deviation * self._sfreq))\n",
    "        self._artifact_deviation = dev if dev > 0 else 1\n",
    "        self._artifact_amplitude_deviation = artifact_amplitude_deviation\n",
    "        self._artifact_negativity_chance = artifact_negativity_chance\n",
    "        self._minimum_artifact_len = int(minimum_artifact_len*self._sfreq)\n",
    "        self._maximum_artifact_len = int(maximum_artifact_len*self._sfreq)\n",
    "        self._artifact_exploding_chance = artifact_exploding_chance\n",
    "        self._artifact_exploding_amplitude_deviation = artifact_exploding_amplitude_deviation\n",
    "\n",
    "    def __call__(self, n_datasamples: int):\n",
    "        for i in range(n_datasamples):\n",
    "            n_artifacts = self._n_artifacts \\\n",
    "                if isinstance(self._n_artifacts, int) \\\n",
    "                else np.random.randint(*self._n_artifacts)\n",
    "            peak_times = sample_with_minimum_distance(len(self._x), n_artifacts, self._maximum_artifact_len)\n",
    "            peaks = np.array([\n",
    "                # to get rid of situation when peak goes out of signal\n",
    "                min(\n",
    "                    peak_time +\\\n",
    "                    np.random.randint(2 * self._artifact_deviation) -\\\n",
    "                    self._artifact_deviation,\n",
    "                    len(self._x) - 1\n",
    "                )\n",
    "                for peak_time in peak_times\n",
    "            ])\n",
    "            all_bounds = {peak: list() for peak in peaks}\n",
    "            # similar artifacts for the same peak\n",
    "            data = np.array([\n",
    "                sp.stats.zscore(random_walk(self._x)) +\\\n",
    "                    sp.stats.zscore(\n",
    "                        band_limited_noise(\n",
    "                            0,\n",
    "                            self._hfreq,\n",
    "                            self._n_samples,\n",
    "                            samplespacing=1 / self._sfreq\n",
    "                        )\n",
    "                )\n",
    "                for _ in range(self._n_channels)\n",
    "            ])\n",
    "            for peak in peaks:\n",
    "                amplitude_ratio = self._artifact_amplitude_deviation\\\n",
    "                    if isinstance(self._artifact_amplitude_deviation, (int, float))\\\n",
    "                    else random.uniform(*self._artifact_amplitude_deviation)\n",
    "                artifact_len = np.random.randint(\n",
    "                    self._minimum_artifact_len,\n",
    "                    self._maximum_artifact_len\n",
    "                )\n",
    "                exploding_amplitude_ratio = self._artifact_exploding_amplitude_deviation\\\n",
    "                    if isinstance(self._artifact_exploding_amplitude_deviation, (int, float))\\\n",
    "                    else random.uniform(*self._artifact_exploding_amplitude_deviation)\n",
    "                exploding_len = np.random.randint(artifact_len//2, artifact_len)\n",
    "                exploding = np.random.random() <= self._artifact_exploding_chance\n",
    "                for i, sig in enumerate(data):\n",
    "                    if np.random.random() <= self._artifact_chance:\n",
    "                        current_amplitude_ratio = random.uniform(.75*amplitude_ratio, 1.25*amplitude_ratio)\n",
    "                        current_artifact_len = np.random.randint(\n",
    "                            max(self._minimum_artifact_len, (.75*artifact_len)),\n",
    "                            min(int(1.25*artifact_len), self._maximum_artifact_len))\n",
    "                        pos = -1 if np.random.random() <= self._artifact_negativity_chance else 1\n",
    "                        artifact_exploding = np.zeros(current_artifact_len-1)\n",
    "                        if exploding:\n",
    "                            current_exploding_amplitude_ratio = random.uniform(.75*exploding_amplitude_ratio, 1.25*exploding_amplitude_ratio)\n",
    "                            current_exploding_len = np.random.randint(int(.75*exploding_len), min(int(1.25*exploding_len), current_artifact_len))\n",
    "                            start = np.random.randint(0, current_artifact_len - current_exploding_len)\n",
    "                            end = start + current_exploding_len\n",
    "                            artifact_exploding[start:end] += pos*current_exploding_amplitude_ratio*sp.signal.gaussian(\n",
    "                                current_exploding_len,\n",
    "                                np.random.randint(current_exploding_len//2, current_exploding_len),\n",
    "                            )\n",
    "                        sig, bounds = make_artifacts(\n",
    "                            sig,\n",
    "                            peak,\n",
    "                            current_amplitude_ratio,\n",
    "                            current_artifact_len,\n",
    "                            self._sfreq//2,\n",
    "                            artifact_exploding\n",
    "                        )\n",
    "                        data[i] = sig\n",
    "                        all_bounds[peak].append(np.array(bounds))\n",
    "\n",
    "            # different artifacts for every peak\n",
    "            # data = list()\n",
    "            # for _ in range(self._n_channels):\n",
    "            #     sig = sp.stats.zscore(random_walk(self._x)) +\\\n",
    "            #         sp.stats.zscore(\n",
    "            #             band_limited_noise(\n",
    "            #                 0,\n",
    "            #                 self._hfreq,\n",
    "            #                 self._n_samples,\n",
    "            #                 samplespacing=1 / self._sfreq\n",
    "            #             )\n",
    "            #     )\n",
    "            #     for peak in peaks:\n",
    "            #         amplitude_ratio = self._artifact_amplitude_deviation\\\n",
    "            #             if isinstance(self._artifact_amplitude_deviation, (int, float))\\\n",
    "            #             else random.uniform(*self._artifact_amplitude_deviation)\n",
    "            #         if np.random.random() <= self._artifact_chance:\n",
    "            #             pos = -1 if np.random.random() <= self._artifact_negativity_chance else 1\n",
    "            #             artifact_len = np.random.randint(\n",
    "            #                 self._minimum_artifact_len,\n",
    "            #                 self._maximum_artifact_len\n",
    "            #             )\n",
    "            #             artifact_exploding = np.zeros(artifact_len-1)\n",
    "            #             if np.random.random() <= self._artifact_exploding_chance:\n",
    "            #                 exploding_amplitude_ratio = self._artifact_exploding_amplitude_deviation\\\n",
    "            #                     if isinstance(self._artifact_exploding_amplitude_deviation, (int, float))\\\n",
    "            #                     else random.uniform(*self._artifact_exploding_amplitude_deviation)\n",
    "            #                 exploding_len = np.random.randint(artifact_len//2, artifact_len)\n",
    "            #                 start = np.random.randint(0, artifact_len - exploding_len)\n",
    "            #                 end = start + exploding_len\n",
    "            #                 artifact_exploding[start:end] += pos*exploding_amplitude_ratio*sp.signal.gaussian(\n",
    "            #                     exploding_len,\n",
    "            #                     np.random.randint(exploding_len//2, exploding_len),\n",
    "            #                 )\n",
    "            #             sig, bounds = make_artifacts(\n",
    "            #                 sig,\n",
    "            #                 peak,\n",
    "            #                 amplitude_ratio,\n",
    "            #                 artifact_len,\n",
    "            #                 self._sfreq//2,\n",
    "            #                 artifact_exploding\n",
    "            #             )\n",
    "            #             all_bounds[peak].append(np.array(bounds))\n",
    "            #     data.append(sig)\n",
    "\n",
    "            out_bounds = list()\n",
    "            for center, bounds in all_bounds.items():\n",
    "                if bounds:\n",
    "                    out_bounds.append(\n",
    "                        [\n",
    "                            np.squeeze(np.array(bounds), axis=1)[:, 0].min(),\n",
    "                            np.squeeze(np.array(bounds), axis=1)[:, 1].max()\n",
    "                        ]\n",
    "                    )\n",
    "                else:\n",
    "                    warn(f'Empty bounds at {center} for {i}th datasample')\n",
    "\n",
    "            yield np.array(data), np.array(out_bounds)\n",
    "\n",
    "%matplotlib qt\n",
    "\n",
    "# sfreq=500\n",
    "# n_channels = 64\n",
    "# artigen = ArtifactsDatasetGenerator(\n",
    "#     tmin=0,\n",
    "#     tmax=50,\n",
    "#     sfreq=sfreq,\n",
    "#     n_artifacts=(30, 50),\n",
    "#     n_channels=n_channels,\n",
    "#     minimum_artifact_len=.1,\n",
    "#     maximum_artifact_len=.5,\n",
    "#     artifact_chance=.1,\n",
    "#     artifact_negativity_chance=0.4,\n",
    "#     artifact_deviation=.1,\n",
    "#     artifact_amplitude_deviation=(200, 500),\n",
    "#     artifact_exploding_chance=.25,\n",
    "#     artifact_exploding_amplitude_deviation=(1, 5)\n",
    "# )\n",
    "\n",
    "sfreq=1000\n",
    "n_channels = 128\n",
    "artigen = ArtifactsDatasetGenerator(\n",
    "    tmin=0,\n",
    "    tmax=5,\n",
    "    sfreq=sfreq,\n",
    "    hfreq=200,\n",
    "    n_artifacts=(3, 5),\n",
    "    n_channels=n_channels,\n",
    "    minimum_artifact_len=.01,\n",
    "    maximum_artifact_len=1.,\n",
    "    artifact_chance=.1,\n",
    "    artifact_negativity_chance=0.4,\n",
    "    artifact_deviation=.1,\n",
    "    artifact_amplitude_deviation=(50, 300),\n",
    "    artifact_exploding_chance=.25,\n",
    "    artifact_exploding_amplitude_deviation=(1, 7)\n",
    ")\n",
    "\n",
    "\n",
    "\n",
    "\n",
    "for data, artifact_times in artigen(100):\n",
    "    \n",
    "    # print(sorted(artifact_times.tolist(), key=lambda item: item[0]))\n",
    "    # enc_seq = sequence_hot_encoding(artifact_times, data.shape[1])\n",
    "    # print(sequence_hot_decoding(enc_seq))\n",
    "    # info = mne.create_info(\n",
    "    #     [f'Ch0{i}' for i in range(n_channels)],\n",
    "    #     sfreq,\n",
    "    #     'eeg',\n",
    "    #     False\n",
    "    # )\n",
    "    # artifact_times = np.array(sequence_hot_decoding(enc_seq))\n",
    "    # artifact_times[:, 1] = artifact_times[:, 1] - artifact_times[:, 0]\n",
    "    # artifact_times = artifact_times/sfreq\n",
    "    # anno = mne.Annotations(artifact_times[:, 0], artifact_times[:, 1], 'BAD')\n",
    "    # raw = mne.io.RawArray(data/300000, info)\n",
    "    # raw.set_annotations(anno)\n",
    "    # raw.plot(event_color='r')\n"
   ]
  },
  {
   "cell_type": "code",
   "execution_count": 4,
   "metadata": {},
   "outputs": [
    {
     "name": "stderr",
     "output_type": "stream",
     "text": [
      "2022-06-16 13:47:27.192490: W tensorflow/stream_executor/platform/default/dso_loader.cc:64] Could not load dynamic library 'libcudart.so.11.0'; dlerror: libcudart.so.11.0: cannot open shared object file: No such file or directory\n",
      "2022-06-16 13:47:27.192516: I tensorflow/stream_executor/cuda/cudart_stub.cc:29] Ignore above cudart dlerror if you do not have a GPU set up on your machine.\n"
     ]
    }
   ],
   "source": [
    "import sys\n",
    "import os\n",
    "current_dir = os.path.dirname(os.path.abspath('./'))\n",
    "if not current_dir in sys.path:\n",
    "    sys.path.append(current_dir)\n",
    "\n",
    "from typing import *\n",
    "from utils.datagen import ArtifactsDatasetGenerator\n",
    "import numpy as np\n",
    "import scipy as sp\n",
    "from utils import sample_with_minimum_distance, save_pkl, read_pkl\n",
    "from utils.signal import band_limited_noise, random_walk\n",
    "import random\n",
    "import mne\n",
    "from alltools.console.colored import warn\n",
    "from alltools.machine_learning.designer import *\n",
    "import matplotlib.pyplot as plt\n",
    "import sklearn.model_selection as skm\n",
    "\n",
    "def sequence_hot_encoding(timemaps, seq_len):\n",
    "    out = np.zeros(seq_len)\n",
    "\n",
    "    for timemap in timemaps:\n",
    "        out[timemap[0]: timemap[1]] = 1\n",
    "\n",
    "    return out\n",
    "\n",
    "\n",
    "def sequence_hot_decoding(seq):\n",
    "\n",
    "    all_bounds = list()\n",
    "    current_bounds = list()\n",
    "    current_elem= 0\n",
    "    for i, elem in enumerate(seq):\n",
    "        if elem != current_elem:\n",
    "            current_elem = elem\n",
    "            current_bounds.append(i)\n",
    "            if len(current_bounds) == 2:\n",
    "                all_bounds.append(current_bounds)\n",
    "                current_bounds = list()\n",
    "    return all_bounds\n"
   ]
  },
  {
   "cell_type": "code",
   "execution_count": 7,
   "metadata": {},
   "outputs": [
    {
     "name": "stdout",
     "output_type": "stream",
     "text": [
      "[[0, 478], [944, 1366], [1715, 1996], [2313, 2448]]\n",
      "[[0, 478], [944, 1366], [1715, 1996], [2313, 2448]]\n",
      "Creating RawArray with float64 data, n_channels=128, n_times=2500\n",
      "    Range : 0 ... 2499 =      0.000 ...     4.998 secs\n",
      "Ready.\n",
      "Opening raw-browser...\n"
     ]
    },
    {
     "name": "stdout",
     "output_type": "stream",
     "text": [
      "Closing raw-browser...\n",
      "Channels marked as bad:\n",
      "none\n"
     ]
    }
   ],
   "source": [
    "sfreq=500\n",
    "n_channels = 128\n",
    "artigen = ArtifactsDatasetGenerator(\n",
    "    tmin=0,\n",
    "    tmax=5,\n",
    "    sfreq=sfreq,\n",
    "    hfreq=200,\n",
    "    n_artifacts=(3, 5),\n",
    "    n_channels=n_channels,\n",
    "    minimum_artifact_len=.01,\n",
    "    maximum_artifact_len=1.,\n",
    "    artifact_chance=.1,\n",
    "    artifact_negativity_chance=0.4,\n",
    "    artifact_deviation=.1,\n",
    "    artifact_amplitude_deviation=(50, 300),\n",
    "    artifact_exploding_chance=.25,\n",
    "    artifact_exploding_amplitude_deviation=(1, 7)\n",
    ")\n",
    "%matplotlib qt\n",
    "for data, artifact_times in artigen(1):\n",
    "    print(sorted(artifact_times.tolist(), key=lambda item: item[0]))\n",
    "    enc_seq = sequence_hot_encoding(artifact_times, data.shape[1])\n",
    "    print(sequence_hot_decoding(enc_seq))\n",
    "    info = mne.create_info(\n",
    "        [f'Ch0{i}' for i in range(n_channels)],\n",
    "        sfreq,\n",
    "        'eeg',\n",
    "        False\n",
    "    )\n",
    "    artifact_times = np.array(sequence_hot_decoding(enc_seq))\n",
    "    artifact_times[:, 1] = artifact_times[:, 1] - artifact_times[:, 0]\n",
    "    artifact_times = artifact_times/sfreq\n",
    "    anno = mne.Annotations(artifact_times[:, 0], artifact_times[:, 1], 'BAD')\n",
    "    raw = mne.io.RawArray(data/300000, info)\n",
    "    raw.set_annotations(anno)\n",
    "    raw.plot(event_color='r')"
   ]
  },
  {
   "cell_type": "code",
   "execution_count": 8,
   "metadata": {},
   "outputs": [
    {
     "name": "stdout",
     "output_type": "stream",
     "text": [
      "0\n",
      "100\n",
      "200\n",
      "300\n",
      "400\n",
      "500\n",
      "600\n",
      "700\n",
      "800\n",
      "900\n"
     ]
    }
   ],
   "source": [
    "sfreq=500\n",
    "n_channels = 128\n",
    "artigen = ArtifactsDatasetGenerator(\n",
    "    tmin=0,\n",
    "    tmax=5,\n",
    "    sfreq=sfreq,\n",
    "    hfreq=200,\n",
    "    n_artifacts=(3, 5),\n",
    "    n_channels=n_channels,\n",
    "    minimum_artifact_len=.01,\n",
    "    maximum_artifact_len=1.,\n",
    "    artifact_chance=.1,\n",
    "    artifact_negativity_chance=0.4,\n",
    "    artifact_deviation=.1,\n",
    "    artifact_amplitude_deviation=(50, 300),\n",
    "    artifact_exploding_chance=.25,\n",
    "    artifact_exploding_amplitude_deviation=(1, 7)\n",
    ")\n",
    "\n",
    "X, Y = list(), list()\n",
    "for i, (data, artifact_times) in enumerate(artigen(1000)):\n",
    "    if not i%100:\n",
    "        print(i)\n",
    "\n",
    "    X.append(data)\n",
    "    y = sequence_hot_encoding(artifact_times, data.shape[1])\n",
    "    Y.append(y)\n",
    "\n",
    "save_pkl((np.array(X), np.array(Y)), '../Source/artifacts_data_128ch_500Hz_5sec.pkl')"
   ]
  },
  {
   "cell_type": "code",
   "execution_count": 2,
   "metadata": {},
   "outputs": [],
   "source": [
    "X, Y = read_pkl('../Source/artifacts_data_128ch_500Hz_5sec.pkl')\n",
    "X = np.transpose(X, (0, 2, 1))\n",
    "X_train, X_test, Y_train, Y_test = skm.train_test_split(X, Y)\n",
    "del X, Y"
   ]
  },
  {
   "cell_type": "code",
   "execution_count": 3,
   "metadata": {},
   "outputs": [
    {
     "data": {
      "text/plain": [
       "((750, 2500, 128), (750, 2500))"
      ]
     },
     "execution_count": 3,
     "metadata": {},
     "output_type": "execute_result"
    }
   ],
   "source": [
    "(X_train.shape, Y_train.shape)"
   ]
  },
  {
   "cell_type": "code",
   "execution_count": 34,
   "metadata": {},
   "outputs": [
    {
     "name": "stdout",
     "output_type": "stream",
     "text": [
      "Epoch 1/200\n"
     ]
    },
    {
     "name": "stderr",
     "output_type": "stream",
     "text": [
      "2022-06-16 13:58:53.150895: W tensorflow/core/framework/cpu_allocator_impl.cc:82] Allocation of 719360000 exceeds 10% of free system memory.\n",
      "2022-06-16 13:58:55.161821: W tensorflow/core/framework/cpu_allocator_impl.cc:82] Allocation of 256000000 exceeds 10% of free system memory.\n",
      "2022-06-16 13:58:55.161912: W tensorflow/core/framework/cpu_allocator_impl.cc:82] Allocation of 256000000 exceeds 10% of free system memory.\n",
      "2022-06-16 13:58:55.162291: W tensorflow/core/framework/cpu_allocator_impl.cc:82] Allocation of 207360000 exceeds 10% of free system memory.\n",
      "2022-06-16 13:58:55.163221: W tensorflow/core/framework/cpu_allocator_impl.cc:82] Allocation of 256000000 exceeds 10% of free system memory.\n"
     ]
    },
    {
     "ename": "",
     "evalue": "",
     "output_type": "error",
     "traceback": [
      "\u001b[1;31mCanceled future for execute_request message before replies were done"
     ]
    },
    {
     "ename": "",
     "evalue": "",
     "output_type": "error",
     "traceback": [
      "\u001b[1;31mThe Kernel crashed while executing code in the the current cell or a previous cell. Please review the code in the cell(s) to identify a possible cause of the failure. Click <a href='https://aka.ms/vscodeJupyterKernelCrash'>here</a> for more info. View Jupyter <a href='command:jupyter.viewOutput'>log</a> for further details."
     ]
    }
   ],
   "source": [
    "model_des = ModelDesign(\n",
    "    tf.keras.Input(X_train.shape[1:]),\n",
    "    tf.keras.layers.LSTM(\n",
    "        128,\n",
    "        return_sequences=True,\n",
    "        use_bias=True\n",
    "    ),\n",
    "    tf.keras.layers.TimeDistributed(tf.keras.layers.Dense(50, activation='relu', kernel_regularizer='l1')),\n",
    "    tf.keras.layers.TimeDistributed(tf.keras.layers.Dense(1, activation='sigmoid')),\n",
    "    tf.keras.layers.Flatten()\n",
    ")\n",
    "\n",
    "model_des()\n",
    "\n",
    "model = model_des.build()\n",
    "\n",
    "model.compile(optimizer='adam',\n",
    "    loss='cosine_similarity'\n",
    ")\n",
    "\n",
    "model.fit(\n",
    "    X_train,\n",
    "    Y_train,\n",
    "    epochs=200,\n",
    "    callbacks=[tf.keras.callbacks.EarlyStopping(monitor='val_loss', patience=5)],\n",
    "    batch_size=200,\n",
    "    validation_split=0.25\n",
    ")"
   ]
  },
  {
   "cell_type": "code",
   "execution_count": 26,
   "metadata": {},
   "outputs": [
    {
     "data": {
      "text/plain": [
       "(250, 2500)"
      ]
     },
     "execution_count": 26,
     "metadata": {},
     "output_type": "execute_result"
    }
   ],
   "source": [
    "Y_p = model(X_test).numpy()\n",
    "tf.keras.losses.CosineSimilarity()(Y_test.astype(float), Y_p.astype(float))"
   ]
  },
  {
   "cell_type": "code",
   "execution_count": 33,
   "metadata": {},
   "outputs": [
    {
     "data": {
      "text/plain": [
       "[<matplotlib.lines.Line2D at 0x7efd247f7700>]"
      ]
     },
     "execution_count": 33,
     "metadata": {},
     "output_type": "execute_result"
    },
    {
     "data": {
      "image/png": "[encoded data removed]",
      "image/svg+xml": "<?xml version=\"1.0\" encoding=\"utf-8\" standalone=\"no\"?>\n<!DOCTYPE svg PUBLIC \"-//W3C//DTD SVG 1.1//EN\"\n  \"http://www.w3.org/Graphics/SVG/1.1/DTD/svg11.dtd\">\n<svg xmlns:xlink=\"http://www.w3.org/1999/xlink\" width=\"372.103125pt\" height=\"248.518125pt\" viewBox=\"0 0 372.103125 248.518125\" xmlns=\"http://www.w3.org/2000/svg\" version=\"1.1\">\n <metadata>\n  <rdf:RDF xmlns:dc=\"http://purl.org/dc/elements/1.1/\" xmlns:cc=\"http://creativecommons.org/ns#\" xmlns:rdf=\"http://www.w3.org/1999/02/22-rdf-syntax-ns#\">\n   <cc:Work>\n    <dc:type rdf:resource=\"http://purl.org/dc/dcmitype/StillImage\"/>\n    <dc:date>2022-06-16T13:58:16.365139</dc:date>\n    <dc:format>image/svg+xml</dc:format>\n    <dc:creator>\n     <cc:Agent>\n      <dc:title>Matplotlib v3.5.2, https://matplotlib.org/</dc:title>\n     </cc:Agent>\n    </dc:creator>\n   </cc:Work>\n  </rdf:RDF>\n </metadata>\n <defs>\n  <style type=\"text/css\">*{stroke-linejoin: round; stroke-linecap: butt}</style>\n </defs>\n <g id=\"figure_1\">\n  <g id=\"patch_1\">\n   <path d=\"M 0 248.518125 \nL 372.103125 248.518125 \nL 372.103125 0 \nL 0 0 \nL 0 248.518125 \nz\n\" style=\"fill: none\"/>\n  </g>\n  <g id=\"axes_1\">\n   <g id=\"patch_2\">\n    <path d=\"M 30.103125 224.64 \nL 364.903125 224.64 \nL 364.903125 7.2 \nL 30.103125 7.2 \nz\n\" style=\"fill: #ffffff\"/>\n   </g>\n   <g id=\"PolyCollection_1\">\n    <path d=\"M 69.192965 17.083636 \nL 69.192965 214.756364 \nL 69.314759 214.756364 \nL 69.436553 214.756364 \nL 69.558347 214.756364 \nL 69.680141 214.756364 \nL 69.801935 214.756364 \nL 69.92373 214.756364 \nL 70.045524 214.756364 \nL 70.167318 214.756364 \nL 70.289112 214.756364 \nL 70.410906 214.756364 \nL 70.5327 214.756364 \nL 70.654495 214.756364 \nL 70.776289 214.756364 \nL 70.898083 214.756364 \nL 71.019877 214.756364 \nL 71.141671 214.756364 \nL 71.263465 214.756364 \nL 71.38526 214.756364 \nL 71.507054 214.756364 \nL 71.628848 214.756364 \nL 71.750642 214.756364 \nL 71.872436 214.756364 \nL 71.994231 214.756364 \nL 72.116025 214.756364 \nL 72.237819 214.756364 \nL 72.359613 214.756364 \nL 72.481407 214.756364 \nL 72.603201 214.756364 \nL 72.724996 214.756364 \nL 72.84679 214.756364 \nL 72.968584 214.756364 \nL 73.090378 214.756364 \nL 73.212172 214.756364 \nL 73.333966 214.756364 \nL 73.455761 214.756364 \nL 73.577555 214.756364 \nL 73.699349 214.756364 \nL 73.821143 214.756364 \nL 73.942937 214.756364 \nL 74.064731 214.756364 \nL 74.186526 214.756364 \nL 74.30832 214.756364 \nL 74.430114 214.756364 \nL 74.551908 214.756364 \nL 74.673702 214.756364 \nL 74.795496 214.756364 \nL 74.917291 214.756364 \nL 75.039085 214.756364 \nL 75.160879 214.756364 \nL 75.282673 214.756364 \nL 75.404467 214.756364 \nL 75.526262 214.756364 \nL 75.648056 214.756364 \nL 75.76985 214.756364 \nL 75.891644 214.756364 \nL 76.013438 214.756364 \nL 76.135232 214.756364 \nL 76.257027 214.756364 \nL 76.378821 214.756364 \nL 76.500615 214.756364 \nL 76.622409 214.756364 \nL 76.744203 214.756364 \nL 76.865997 214.756364 \nL 76.987792 214.756364 \nL 77.109586 214.756364 \nL 77.23138 214.756364 \nL 77.353174 214.756364 \nL 77.474968 214.756364 \nL 77.596762 214.756364 \nL 77.718557 214.756364 \nL 77.840351 214.756364 \nL 77.962145 214.756364 \nL 78.083939 214.756364 \nL 78.205733 214.756364 \nL 78.327527 214.756364 \nL 78.449322 214.756364 \nL 78.571116 214.756364 \nL 78.69291 214.756364 \nL 78.814704 214.756364 \nL 78.936498 214.756364 \nL 79.058293 214.756364 \nL 79.180087 214.756364 \nL 79.301881 214.756364 \nL 79.423675 214.756364 \nL 79.545469 214.756364 \nL 79.667263 214.756364 \nL 79.789058 214.756364 \nL 79.910852 214.756364 \nL 80.032646 214.756364 \nL 80.15444 214.756364 \nL 80.276234 214.756364 \nL 80.398028 214.756364 \nL 80.519823 214.756364 \nL 80.641617 214.756364 \nL 80.763411 214.756364 \nL 80.885205 214.756364 \nL 81.006999 214.756364 \nL 81.128793 214.756364 \nL 81.250588 214.756364 \nL 81.372382 214.756364 \nL 81.494176 214.756364 \nL 81.61597 214.756364 \nL 81.737764 214.756364 \nL 81.859558 214.756364 \nL 81.981353 214.756364 \nL 82.103147 214.756364 \nL 82.224941 214.756364 \nL 82.346735 214.756364 \nL 82.468529 214.756364 \nL 82.590324 214.756364 \nL 82.712118 214.756364 \nL 82.833912 214.756364 \nL 82.955706 214.756364 \nL 83.0775 214.756364 \nL 83.199294 214.756364 \nL 83.321089 214.756364 \nL 83.442883 214.756364 \nL 83.564677 214.756364 \nL 83.686471 214.756364 \nL 83.808265 214.756364 \nL 83.930059 214.756364 \nL 84.051854 214.756364 \nL 84.173648 214.756364 \nL 84.295442 214.756364 \nL 84.417236 214.756364 \nL 84.53903 214.756364 \nL 84.660824 214.756364 \nL 84.782619 214.756364 \nL 84.904413 214.756364 \nL 85.026207 214.756364 \nL 85.148001 214.756364 \nL 85.269795 214.756364 \nL 85.391589 214.756364 \nL 85.513384 214.756364 \nL 85.635178 214.756364 \nL 85.756972 214.756364 \nL 85.878766 214.756364 \nL 86.00056 214.756364 \nL 86.122355 214.756364 \nL 86.244149 214.756364 \nL 86.365943 214.756364 \nL 86.487737 214.756364 \nL 86.609531 214.756364 \nL 86.731325 214.756364 \nL 86.85312 214.756364 \nL 86.974914 214.756364 \nL 87.096708 214.756364 \nL 87.218502 214.756364 \nL 87.340296 214.756364 \nL 87.46209 214.756364 \nL 87.583885 214.756364 \nL 87.705679 214.756364 \nL 87.827473 214.756364 \nL 87.949267 214.756364 \nL 88.071061 214.756364 \nL 88.192855 214.756364 \nL 88.31465 214.756364 \nL 88.436444 214.756364 \nL 88.558238 214.756364 \nL 88.680032 214.756364 \nL 88.801826 214.756364 \nL 88.92362 214.756364 \nL 89.045415 214.756364 \nL 89.167209 214.756364 \nL 89.289003 214.756364 \nL 89.410797 214.756364 \nL 89.532591 214.756364 \nL 89.654386 214.756364 \nL 89.77618 214.756364 \nL 89.897974 214.756364 \nL 90.019768 214.756364 \nL 90.141562 214.756364 \nL 90.263356 214.756364 \nL 90.385151 214.756364 \nL 90.506945 214.756364 \nL 90.628739 214.756364 \nL 90.750533 214.756364 \nL 90.872327 214.756364 \nL 90.994121 214.756364 \nL 91.115916 214.756364 \nL 91.23771 214.756364 \nL 91.359504 214.756364 \nL 91.481298 214.756364 \nL 91.603092 214.756364 \nL 91.724886 214.756364 \nL 91.846681 214.756364 \nL 91.968475 214.756364 \nL 92.090269 214.756364 \nL 92.212063 214.756364 \nL 92.333857 214.756364 \nL 92.455651 214.756364 \nL 92.577446 214.756364 \nL 92.69924 214.756364 \nL 92.821034 214.756364 \nL 92.942828 214.756364 \nL 93.064622 214.756364 \nL 93.186416 214.756364 \nL 93.308211 214.756364 \nL 93.430005 214.756364 \nL 93.551799 214.756364 \nL 93.673593 214.756364 \nL 93.795387 214.756364 \nL 93.917182 214.756364 \nL 94.038976 214.756364 \nL 94.16077 214.756364 \nL 94.282564 214.756364 \nL 94.404358 214.756364 \nL 94.526152 214.756364 \nL 94.647947 214.756364 \nL 94.769741 214.756364 \nL 94.891535 214.756364 \nL 95.013329 214.756364 \nL 95.135123 214.756364 \nL 95.256917 214.756364 \nL 95.378712 214.756364 \nL 95.500506 214.756364 \nL 95.6223 214.756364 \nL 95.744094 214.756364 \nL 95.865888 214.756364 \nL 95.987682 214.756364 \nL 96.109477 214.756364 \nL 96.231271 214.756364 \nL 96.353065 214.756364 \nL 96.474859 214.756364 \nL 96.596653 214.756364 \nL 96.718447 214.756364 \nL 96.840242 214.756364 \nL 96.962036 214.756364 \nL 97.08383 214.756364 \nL 97.205624 214.756364 \nL 97.205624 17.083636 \nL 97.205624 17.083636 \nL 97.08383 17.083636 \nL 96.962036 17.083636 \nL 96.840242 17.083636 \nL 96.718447 17.083636 \nL 96.596653 17.083636 \nL 96.474859 17.083636 \nL 96.353065 17.083636 \nL 96.231271 17.083636 \nL 96.109477 17.083636 \nL 95.987682 17.083636 \nL 95.865888 17.083636 \nL 95.744094 17.083636 \nL 95.6223 17.083636 \nL 95.500506 17.083636 \nL 95.378712 17.083636 \nL 95.256917 17.083636 \nL 95.135123 17.083636 \nL 95.013329 17.083636 \nL 94.891535 17.083636 \nL 94.769741 17.083636 \nL 94.647947 17.083636 \nL 94.526152 17.083636 \nL 94.404358 17.083636 \nL 94.282564 17.083636 \nL 94.16077 17.083636 \nL 94.038976 17.083636 \nL 93.917182 17.083636 \nL 93.795387 17.083636 \nL 93.673593 17.083636 \nL 93.551799 17.083636 \nL 93.430005 17.083636 \nL 93.308211 17.083636 \nL 93.186416 17.083636 \nL 93.064622 17.083636 \nL 92.942828 17.083636 \nL 92.821034 17.083636 \nL 92.69924 17.083636 \nL 92.577446 17.083636 \nL 92.455651 17.083636 \nL 92.333857 17.083636 \nL 92.212063 17.083636 \nL 92.090269 17.083636 \nL 91.968475 17.083636 \nL 91.846681 17.083636 \nL 91.724886 17.083636 \nL 91.603092 17.083636 \nL 91.481298 17.083636 \nL 91.359504 17.083636 \nL 91.23771 17.083636 \nL 91.115916 17.083636 \nL 90.994121 17.083636 \nL 90.872327 17.083636 \nL 90.750533 17.083636 \nL 90.628739 17.083636 \nL 90.506945 17.083636 \nL 90.385151 17.083636 \nL 90.263356 17.083636 \nL 90.141562 17.083636 \nL 90.019768 17.083636 \nL 89.897974 17.083636 \nL 89.77618 17.083636 \nL 89.654386 17.083636 \nL 89.532591 17.083636 \nL 89.410797 17.083636 \nL 89.289003 17.083636 \nL 89.167209 17.083636 \nL 89.045415 17.083636 \nL 88.92362 17.083636 \nL 88.801826 17.083636 \nL 88.680032 17.083636 \nL 88.558238 17.083636 \nL 88.436444 17.083636 \nL 88.31465 17.083636 \nL 88.192855 17.083636 \nL 88.071061 17.083636 \nL 87.949267 17.083636 \nL 87.827473 17.083636 \nL 87.705679 17.083636 \nL 87.583885 17.083636 \nL 87.46209 17.083636 \nL 87.340296 17.083636 \nL 87.218502 17.083636 \nL 87.096708 17.083636 \nL 86.974914 17.083636 \nL 86.85312 17.083636 \nL 86.731325 17.083636 \nL 86.609531 17.083636 \nL 86.487737 17.083636 \nL 86.365943 17.083636 \nL 86.244149 17.083636 \nL 86.122355 17.083636 \nL 86.00056 17.083636 \nL 85.878766 17.083636 \nL 85.756972 17.083636 \nL 85.635178 17.083636 \nL 85.513384 17.083636 \nL 85.391589 17.083636 \nL 85.269795 17.083636 \nL 85.148001 17.083636 \nL 85.026207 17.083636 \nL 84.904413 17.083636 \nL 84.782619 17.083636 \nL 84.660824 17.083636 \nL 84.53903 17.083636 \nL 84.417236 17.083636 \nL 84.295442 17.083636 \nL 84.173648 17.083636 \nL 84.051854 17.083636 \nL 83.930059 17.083636 \nL 83.808265 17.083636 \nL 83.686471 17.083636 \nL 83.564677 17.083636 \nL 83.442883 17.083636 \nL 83.321089 17.083636 \nL 83.199294 17.083636 \nL 83.0775 17.083636 \nL 82.955706 17.083636 \nL 82.833912 17.083636 \nL 82.712118 17.083636 \nL 82.590324 17.083636 \nL 82.468529 17.083636 \nL 82.346735 17.083636 \nL 82.224941 17.083636 \nL 82.103147 17.083636 \nL 81.981353 17.083636 \nL 81.859558 17.083636 \nL 81.737764 17.083636 \nL 81.61597 17.083636 \nL 81.494176 17.083636 \nL 81.372382 17.083636 \nL 81.250588 17.083636 \nL 81.128793 17.083636 \nL 81.006999 17.083636 \nL 80.885205 17.083636 \nL 80.763411 17.083636 \nL 80.641617 17.083636 \nL 80.519823 17.083636 \nL 80.398028 17.083636 \nL 80.276234 17.083636 \nL 80.15444 17.083636 \nL 80.032646 17.083636 \nL 79.910852 17.083636 \nL 79.789058 17.083636 \nL 79.667263 17.083636 \nL 79.545469 17.083636 \nL 79.423675 17.083636 \nL 79.301881 17.083636 \nL 79.180087 17.083636 \nL 79.058293 17.083636 \nL 78.936498 17.083636 \nL 78.814704 17.083636 \nL 78.69291 17.083636 \nL 78.571116 17.083636 \nL 78.449322 17.083636 \nL 78.327527 17.083636 \nL 78.205733 17.083636 \nL 78.083939 17.083636 \nL 77.962145 17.083636 \nL 77.840351 17.083636 \nL 77.718557 17.083636 \nL 77.596762 17.083636 \nL 77.474968 17.083636 \nL 77.353174 17.083636 \nL 77.23138 17.083636 \nL 77.109586 17.083636 \nL 76.987792 17.083636 \nL 76.865997 17.083636 \nL 76.744203 17.083636 \nL 76.622409 17.083636 \nL 76.500615 17.083636 \nL 76.378821 17.083636 \nL 76.257027 17.083636 \nL 76.135232 17.083636 \nL 76.013438 17.083636 \nL 75.891644 17.083636 \nL 75.76985 17.083636 \nL 75.648056 17.083636 \nL 75.526262 17.083636 \nL 75.404467 17.083636 \nL 75.282673 17.083636 \nL 75.160879 17.083636 \nL 75.039085 17.083636 \nL 74.917291 17.083636 \nL 74.795496 17.083636 \nL 74.673702 17.083636 \nL 74.551908 17.083636 \nL 74.430114 17.083636 \nL 74.30832 17.083636 \nL 74.186526 17.083636 \nL 74.064731 17.083636 \nL 73.942937 17.083636 \nL 73.821143 17.083636 \nL 73.699349 17.083636 \nL 73.577555 17.083636 \nL 73.455761 17.083636 \nL 73.333966 17.083636 \nL 73.212172 17.083636 \nL 73.090378 17.083636 \nL 72.968584 17.083636 \nL 72.84679 17.083636 \nL 72.724996 17.083636 \nL 72.603201 17.083636 \nL 72.481407 17.083636 \nL 72.359613 17.083636 \nL 72.237819 17.083636 \nL 72.116025 17.083636 \nL 71.994231 17.083636 \nL 71.872436 17.083636 \nL 71.750642 17.083636 \nL 71.628848 17.083636 \nL 71.507054 17.083636 \nL 71.38526 17.083636 \nL 71.263465 17.083636 \nL 71.141671 17.083636 \nL 71.019877 17.083636 \nL 70.898083 17.083636 \nL 70.776289 17.083636 \nL 70.654495 17.083636 \nL 70.5327 17.083636 \nL 70.410906 17.083636 \nL 70.289112 17.083636 \nL 70.167318 17.083636 \nL 70.045524 17.083636 \nL 69.92373 17.083636 \nL 69.801935 17.083636 \nL 69.680141 17.083636 \nL 69.558347 17.083636 \nL 69.436553 17.083636 \nL 69.314759 17.083636 \nL 69.192965 17.083636 \nz\n\" clip-path=\"url(#pf2e01afe2f)\" style=\"fill: #ff0000; fill-opacity: 0.25; stroke: #ff0000; stroke-opacity: 0.25\"/>\n    <path d=\"M 235.685598 17.083636 \nL 235.685598 214.756364 \nL 235.807392 214.756364 \nL 235.929186 214.756364 \nL 236.050981 214.756364 \nL 236.172775 214.756364 \nL 236.294569 214.756364 \nL 236.416363 214.756364 \nL 236.538157 214.756364 \nL 236.659951 214.756364 \nL 236.781746 214.756364 \nL 236.90354 214.756364 \nL 237.025334 214.756364 \nL 237.147128 214.756364 \nL 237.268922 214.756364 \nL 237.390716 214.756364 \nL 237.512511 214.756364 \nL 237.634305 214.756364 \nL 237.756099 214.756364 \nL 237.877893 214.756364 \nL 237.999687 214.756364 \nL 238.121481 214.756364 \nL 238.243276 214.756364 \nL 238.36507 214.756364 \nL 238.486864 214.756364 \nL 238.608658 214.756364 \nL 238.730452 214.756364 \nL 238.852246 214.756364 \nL 238.974041 214.756364 \nL 239.095835 214.756364 \nL 239.217629 214.756364 \nL 239.339423 214.756364 \nL 239.461217 214.756364 \nL 239.583012 214.756364 \nL 239.704806 214.756364 \nL 239.8266 214.756364 \nL 239.948394 214.756364 \nL 240.070188 214.756364 \nL 240.191982 214.756364 \nL 240.313777 214.756364 \nL 240.435571 214.756364 \nL 240.557365 214.756364 \nL 240.679159 214.756364 \nL 240.800953 214.756364 \nL 240.922747 214.756364 \nL 241.044542 214.756364 \nL 241.166336 214.756364 \nL 241.28813 214.756364 \nL 241.409924 214.756364 \nL 241.531718 214.756364 \nL 241.653512 214.756364 \nL 241.775307 214.756364 \nL 241.897101 214.756364 \nL 242.018895 214.756364 \nL 242.140689 214.756364 \nL 242.262483 214.756364 \nL 242.384277 214.756364 \nL 242.506072 214.756364 \nL 242.627866 214.756364 \nL 242.74966 214.756364 \nL 242.871454 214.756364 \nL 242.993248 214.756364 \nL 243.115042 214.756364 \nL 243.236837 214.756364 \nL 243.358631 214.756364 \nL 243.480425 214.756364 \nL 243.602219 214.756364 \nL 243.724013 214.756364 \nL 243.845808 214.756364 \nL 243.967602 214.756364 \nL 244.089396 214.756364 \nL 244.21119 214.756364 \nL 244.332984 214.756364 \nL 244.454778 214.756364 \nL 244.576573 214.756364 \nL 244.698367 214.756364 \nL 244.820161 214.756364 \nL 244.941955 214.756364 \nL 245.063749 214.756364 \nL 245.185543 214.756364 \nL 245.307338 214.756364 \nL 245.429132 214.756364 \nL 245.550926 214.756364 \nL 245.67272 214.756364 \nL 245.794514 214.756364 \nL 245.916308 214.756364 \nL 246.038103 214.756364 \nL 246.159897 214.756364 \nL 246.281691 214.756364 \nL 246.403485 214.756364 \nL 246.525279 214.756364 \nL 246.647073 214.756364 \nL 246.768868 214.756364 \nL 246.890662 214.756364 \nL 247.012456 214.756364 \nL 247.13425 214.756364 \nL 247.256044 214.756364 \nL 247.377839 214.756364 \nL 247.499633 214.756364 \nL 247.499633 17.083636 \nL 247.499633 17.083636 \nL 247.377839 17.083636 \nL 247.256044 17.083636 \nL 247.13425 17.083636 \nL 247.012456 17.083636 \nL 246.890662 17.083636 \nL 246.768868 17.083636 \nL 246.647073 17.083636 \nL 246.525279 17.083636 \nL 246.403485 17.083636 \nL 246.281691 17.083636 \nL 246.159897 17.083636 \nL 246.038103 17.083636 \nL 245.916308 17.083636 \nL 245.794514 17.083636 \nL 245.67272 17.083636 \nL 245.550926 17.083636 \nL 245.429132 17.083636 \nL 245.307338 17.083636 \nL 245.185543 17.083636 \nL 245.063749 17.083636 \nL 244.941955 17.083636 \nL 244.820161 17.083636 \nL 244.698367 17.083636 \nL 244.576573 17.083636 \nL 244.454778 17.083636 \nL 244.332984 17.083636 \nL 244.21119 17.083636 \nL 244.089396 17.083636 \nL 243.967602 17.083636 \nL 243.845808 17.083636 \nL 243.724013 17.083636 \nL 243.602219 17.083636 \nL 243.480425 17.083636 \nL 243.358631 17.083636 \nL 243.236837 17.083636 \nL 243.115042 17.083636 \nL 242.993248 17.083636 \nL 242.871454 17.083636 \nL 242.74966 17.083636 \nL 242.627866 17.083636 \nL 242.506072 17.083636 \nL 242.384277 17.083636 \nL 242.262483 17.083636 \nL 242.140689 17.083636 \nL 242.018895 17.083636 \nL 241.897101 17.083636 \nL 241.775307 17.083636 \nL 241.653512 17.083636 \nL 241.531718 17.083636 \nL 241.409924 17.083636 \nL 241.28813 17.083636 \nL 241.166336 17.083636 \nL 241.044542 17.083636 \nL 240.922747 17.083636 \nL 240.800953 17.083636 \nL 240.679159 17.083636 \nL 240.557365 17.083636 \nL 240.435571 17.083636 \nL 240.313777 17.083636 \nL 240.191982 17.083636 \nL 240.070188 17.083636 \nL 239.948394 17.083636 \nL 239.8266 17.083636 \nL 239.704806 17.083636 \nL 239.583012 17.083636 \nL 239.461217 17.083636 \nL 239.339423 17.083636 \nL 239.217629 17.083636 \nL 239.095835 17.083636 \nL 238.974041 17.083636 \nL 238.852246 17.083636 \nL 238.730452 17.083636 \nL 238.608658 17.083636 \nL 238.486864 17.083636 \nL 238.36507 17.083636 \nL 238.243276 17.083636 \nL 238.121481 17.083636 \nL 237.999687 17.083636 \nL 237.877893 17.083636 \nL 237.756099 17.083636 \nL 237.634305 17.083636 \nL 237.512511 17.083636 \nL 237.390716 17.083636 \nL 237.268922 17.083636 \nL 237.147128 17.083636 \nL 237.025334 17.083636 \nL 236.90354 17.083636 \nL 236.781746 17.083636 \nL 236.659951 17.083636 \nL 236.538157 17.083636 \nL 236.416363 17.083636 \nL 236.294569 17.083636 \nL 236.172775 17.083636 \nL 236.050981 17.083636 \nL 235.929186 17.083636 \nL 235.807392 17.083636 \nL 235.685598 17.083636 \nz\n\" clip-path=\"url(#pf2e01afe2f)\" style=\"fill: #ff0000; fill-opacity: 0.25; stroke: #ff0000; stroke-opacity: 0.25\"/>\n    <path d=\"M 305.717247 17.083636 \nL 305.717247 214.756364 \nL 305.839041 214.756364 \nL 305.960835 214.756364 \nL 306.08263 214.756364 \nL 306.204424 214.756364 \nL 306.326218 214.756364 \nL 306.448012 214.756364 \nL 306.569806 214.756364 \nL 306.6916 214.756364 \nL 306.813395 214.756364 \nL 306.935189 214.756364 \nL 307.056983 214.756364 \nL 307.178777 214.756364 \nL 307.300571 214.756364 \nL 307.422365 214.756364 \nL 307.54416 214.756364 \nL 307.665954 214.756364 \nL 307.787748 214.756364 \nL 307.909542 214.756364 \nL 308.031336 214.756364 \nL 308.15313 214.756364 \nL 308.274925 214.756364 \nL 308.396719 214.756364 \nL 308.518513 214.756364 \nL 308.640307 214.756364 \nL 308.762101 214.756364 \nL 308.883895 214.756364 \nL 309.00569 214.756364 \nL 309.127484 214.756364 \nL 309.249278 214.756364 \nL 309.371072 214.756364 \nL 309.492866 214.756364 \nL 309.614661 214.756364 \nL 309.736455 214.756364 \nL 309.858249 214.756364 \nL 309.980043 214.756364 \nL 310.101837 214.756364 \nL 310.223631 214.756364 \nL 310.345426 214.756364 \nL 310.46722 214.756364 \nL 310.589014 214.756364 \nL 310.710808 214.756364 \nL 310.832602 214.756364 \nL 310.954396 214.756364 \nL 311.076191 214.756364 \nL 311.197985 214.756364 \nL 311.319779 214.756364 \nL 311.441573 214.756364 \nL 311.563367 214.756364 \nL 311.685161 214.756364 \nL 311.806956 214.756364 \nL 311.92875 214.756364 \nL 312.050544 214.756364 \nL 312.172338 214.756364 \nL 312.294132 214.756364 \nL 312.415926 214.756364 \nL 312.537721 214.756364 \nL 312.659515 214.756364 \nL 312.781309 214.756364 \nL 312.903103 214.756364 \nL 313.024897 214.756364 \nL 313.146692 214.756364 \nL 313.268486 214.756364 \nL 313.39028 214.756364 \nL 313.512074 214.756364 \nL 313.633868 214.756364 \nL 313.755662 214.756364 \nL 313.877457 214.756364 \nL 313.999251 214.756364 \nL 314.121045 214.756364 \nL 314.242839 214.756364 \nL 314.364633 214.756364 \nL 314.486427 214.756364 \nL 314.608222 214.756364 \nL 314.730016 214.756364 \nL 314.85181 214.756364 \nL 314.973604 214.756364 \nL 315.095398 214.756364 \nL 315.217192 214.756364 \nL 315.338987 214.756364 \nL 315.460781 214.756364 \nL 315.582575 214.756364 \nL 315.704369 214.756364 \nL 315.826163 214.756364 \nL 315.947957 214.756364 \nL 316.069752 214.756364 \nL 316.191546 214.756364 \nL 316.31334 214.756364 \nL 316.435134 214.756364 \nL 316.556928 214.756364 \nL 316.678723 214.756364 \nL 316.800517 214.756364 \nL 316.922311 214.756364 \nL 317.044105 214.756364 \nL 317.165899 214.756364 \nL 317.287693 214.756364 \nL 317.409488 214.756364 \nL 317.531282 214.756364 \nL 317.653076 214.756364 \nL 317.77487 214.756364 \nL 317.896664 214.756364 \nL 318.018458 214.756364 \nL 318.140253 214.756364 \nL 318.262047 214.756364 \nL 318.383841 214.756364 \nL 318.505635 214.756364 \nL 318.627429 214.756364 \nL 318.749223 214.756364 \nL 318.871018 214.756364 \nL 318.992812 214.756364 \nL 319.114606 214.756364 \nL 319.2364 214.756364 \nL 319.358194 214.756364 \nL 319.479988 214.756364 \nL 319.601783 214.756364 \nL 319.723577 214.756364 \nL 319.845371 214.756364 \nL 319.967165 214.756364 \nL 320.088959 214.756364 \nL 320.210754 214.756364 \nL 320.332548 214.756364 \nL 320.454342 214.756364 \nL 320.576136 214.756364 \nL 320.69793 214.756364 \nL 320.819724 214.756364 \nL 320.941519 214.756364 \nL 321.063313 214.756364 \nL 321.185107 214.756364 \nL 321.306901 214.756364 \nL 321.428695 214.756364 \nL 321.550489 214.756364 \nL 321.672284 214.756364 \nL 321.794078 214.756364 \nL 321.915872 214.756364 \nL 322.037666 214.756364 \nL 322.15946 214.756364 \nL 322.281254 214.756364 \nL 322.403049 214.756364 \nL 322.524843 214.756364 \nL 322.646637 214.756364 \nL 322.768431 214.756364 \nL 322.890225 214.756364 \nL 323.012019 214.756364 \nL 323.133814 214.756364 \nL 323.255608 214.756364 \nL 323.377402 214.756364 \nL 323.499196 214.756364 \nL 323.62099 214.756364 \nL 323.742785 214.756364 \nL 323.864579 214.756364 \nL 323.986373 214.756364 \nL 324.108167 214.756364 \nL 324.229961 214.756364 \nL 324.351755 214.756364 \nL 324.47355 214.756364 \nL 324.595344 214.756364 \nL 324.717138 214.756364 \nL 324.838932 214.756364 \nL 324.960726 214.756364 \nL 325.08252 214.756364 \nL 325.204315 214.756364 \nL 325.326109 214.756364 \nL 325.447903 214.756364 \nL 325.569697 214.756364 \nL 325.691491 214.756364 \nL 325.813285 214.756364 \nL 325.93508 214.756364 \nL 326.056874 214.756364 \nL 326.178668 214.756364 \nL 326.300462 214.756364 \nL 326.422256 214.756364 \nL 326.54405 214.756364 \nL 326.665845 214.756364 \nL 326.787639 214.756364 \nL 326.909433 214.756364 \nL 327.031227 214.756364 \nL 327.153021 214.756364 \nL 327.274815 214.756364 \nL 327.39661 214.756364 \nL 327.518404 214.756364 \nL 327.640198 214.756364 \nL 327.761992 214.756364 \nL 327.883786 214.756364 \nL 328.005581 214.756364 \nL 328.127375 214.756364 \nL 328.249169 214.756364 \nL 328.370963 214.756364 \nL 328.492757 214.756364 \nL 328.614551 214.756364 \nL 328.736346 214.756364 \nL 328.85814 214.756364 \nL 328.979934 214.756364 \nL 329.101728 214.756364 \nL 329.223522 214.756364 \nL 329.345316 214.756364 \nL 329.467111 214.756364 \nL 329.588905 214.756364 \nL 329.710699 214.756364 \nL 329.832493 214.756364 \nL 329.954287 214.756364 \nL 330.076081 214.756364 \nL 330.197876 214.756364 \nL 330.31967 214.756364 \nL 330.441464 214.756364 \nL 330.563258 214.756364 \nL 330.685052 214.756364 \nL 330.806846 214.756364 \nL 330.928641 214.756364 \nL 331.050435 214.756364 \nL 331.172229 214.756364 \nL 331.294023 214.756364 \nL 331.415817 214.756364 \nL 331.537612 214.756364 \nL 331.659406 214.756364 \nL 331.7812 214.756364 \nL 331.902994 214.756364 \nL 332.024788 214.756364 \nL 332.146582 214.756364 \nL 332.268377 214.756364 \nL 332.390171 214.756364 \nL 332.511965 214.756364 \nL 332.633759 214.756364 \nL 332.755553 214.756364 \nL 332.877347 214.756364 \nL 332.999142 214.756364 \nL 333.120936 214.756364 \nL 333.24273 214.756364 \nL 333.364524 214.756364 \nL 333.486318 214.756364 \nL 333.608112 214.756364 \nL 333.729907 214.756364 \nL 333.851701 214.756364 \nL 333.973495 214.756364 \nL 334.095289 214.756364 \nL 334.217083 214.756364 \nL 334.338877 214.756364 \nL 334.460672 214.756364 \nL 334.582466 214.756364 \nL 334.70426 214.756364 \nL 334.826054 214.756364 \nL 334.947848 214.756364 \nL 335.069643 214.756364 \nL 335.191437 214.756364 \nL 335.313231 214.756364 \nL 335.435025 214.756364 \nL 335.556819 214.756364 \nL 335.678613 214.756364 \nL 335.800408 214.756364 \nL 335.922202 214.756364 \nL 336.043996 214.756364 \nL 336.16579 214.756364 \nL 336.287584 214.756364 \nL 336.287584 17.083636 \nL 336.287584 17.083636 \nL 336.16579 17.083636 \nL 336.043996 17.083636 \nL 335.922202 17.083636 \nL 335.800408 17.083636 \nL 335.678613 17.083636 \nL 335.556819 17.083636 \nL 335.435025 17.083636 \nL 335.313231 17.083636 \nL 335.191437 17.083636 \nL 335.069643 17.083636 \nL 334.947848 17.083636 \nL 334.826054 17.083636 \nL 334.70426 17.083636 \nL 334.582466 17.083636 \nL 334.460672 17.083636 \nL 334.338877 17.083636 \nL 334.217083 17.083636 \nL 334.095289 17.083636 \nL 333.973495 17.083636 \nL 333.851701 17.083636 \nL 333.729907 17.083636 \nL 333.608112 17.083636 \nL 333.486318 17.083636 \nL 333.364524 17.083636 \nL 333.24273 17.083636 \nL 333.120936 17.083636 \nL 332.999142 17.083636 \nL 332.877347 17.083636 \nL 332.755553 17.083636 \nL 332.633759 17.083636 \nL 332.511965 17.083636 \nL 332.390171 17.083636 \nL 332.268377 17.083636 \nL 332.146582 17.083636 \nL 332.024788 17.083636 \nL 331.902994 17.083636 \nL 331.7812 17.083636 \nL 331.659406 17.083636 \nL 331.537612 17.083636 \nL 331.415817 17.083636 \nL 331.294023 17.083636 \nL 331.172229 17.083636 \nL 331.050435 17.083636 \nL 330.928641 17.083636 \nL 330.806846 17.083636 \nL 330.685052 17.083636 \nL 330.563258 17.083636 \nL 330.441464 17.083636 \nL 330.31967 17.083636 \nL 330.197876 17.083636 \nL 330.076081 17.083636 \nL 329.954287 17.083636 \nL 329.832493 17.083636 \nL 329.710699 17.083636 \nL 329.588905 17.083636 \nL 329.467111 17.083636 \nL 329.345316 17.083636 \nL 329.223522 17.083636 \nL 329.101728 17.083636 \nL 328.979934 17.083636 \nL 328.85814 17.083636 \nL 328.736346 17.083636 \nL 328.614551 17.083636 \nL 328.492757 17.083636 \nL 328.370963 17.083636 \nL 328.249169 17.083636 \nL 328.127375 17.083636 \nL 328.005581 17.083636 \nL 327.883786 17.083636 \nL 327.761992 17.083636 \nL 327.640198 17.083636 \nL 327.518404 17.083636 \nL 327.39661 17.083636 \nL 327.274815 17.083636 \nL 327.153021 17.083636 \nL 327.031227 17.083636 \nL 326.909433 17.083636 \nL 326.787639 17.083636 \nL 326.665845 17.083636 \nL 326.54405 17.083636 \nL 326.422256 17.083636 \nL 326.300462 17.083636 \nL 326.178668 17.083636 \nL 326.056874 17.083636 \nL 325.93508 17.083636 \nL 325.813285 17.083636 \nL 325.691491 17.083636 \nL 325.569697 17.083636 \nL 325.447903 17.083636 \nL 325.326109 17.083636 \nL 325.204315 17.083636 \nL 325.08252 17.083636 \nL 324.960726 17.083636 \nL 324.838932 17.083636 \nL 324.717138 17.083636 \nL 324.595344 17.083636 \nL 324.47355 17.083636 \nL 324.351755 17.083636 \nL 324.229961 17.083636 \nL 324.108167 17.083636 \nL 323.986373 17.083636 \nL 323.864579 17.083636 \nL 323.742785 17.083636 \nL 323.62099 17.083636 \nL 323.499196 17.083636 \nL 323.377402 17.083636 \nL 323.255608 17.083636 \nL 323.133814 17.083636 \nL 323.012019 17.083636 \nL 322.890225 17.083636 \nL 322.768431 17.083636 \nL 322.646637 17.083636 \nL 322.524843 17.083636 \nL 322.403049 17.083636 \nL 322.281254 17.083636 \nL 322.15946 17.083636 \nL 322.037666 17.083636 \nL 321.915872 17.083636 \nL 321.794078 17.083636 \nL 321.672284 17.083636 \nL 321.550489 17.083636 \nL 321.428695 17.083636 \nL 321.306901 17.083636 \nL 321.185107 17.083636 \nL 321.063313 17.083636 \nL 320.941519 17.083636 \nL 320.819724 17.083636 \nL 320.69793 17.083636 \nL 320.576136 17.083636 \nL 320.454342 17.083636 \nL 320.332548 17.083636 \nL 320.210754 17.083636 \nL 320.088959 17.083636 \nL 319.967165 17.083636 \nL 319.845371 17.083636 \nL 319.723577 17.083636 \nL 319.601783 17.083636 \nL 319.479988 17.083636 \nL 319.358194 17.083636 \nL 319.2364 17.083636 \nL 319.114606 17.083636 \nL 318.992812 17.083636 \nL 318.871018 17.083636 \nL 318.749223 17.083636 \nL 318.627429 17.083636 \nL 318.505635 17.083636 \nL 318.383841 17.083636 \nL 318.262047 17.083636 \nL 318.140253 17.083636 \nL 318.018458 17.083636 \nL 317.896664 17.083636 \nL 317.77487 17.083636 \nL 317.653076 17.083636 \nL 317.531282 17.083636 \nL 317.409488 17.083636 \nL 317.287693 17.083636 \nL 317.165899 17.083636 \nL 317.044105 17.083636 \nL 316.922311 17.083636 \nL 316.800517 17.083636 \nL 316.678723 17.083636 \nL 316.556928 17.083636 \nL 316.435134 17.083636 \nL 316.31334 17.083636 \nL 316.191546 17.083636 \nL 316.069752 17.083636 \nL 315.947957 17.083636 \nL 315.826163 17.083636 \nL 315.704369 17.083636 \nL 315.582575 17.083636 \nL 315.460781 17.083636 \nL 315.338987 17.083636 \nL 315.217192 17.083636 \nL 315.095398 17.083636 \nL 314.973604 17.083636 \nL 314.85181 17.083636 \nL 314.730016 17.083636 \nL 314.608222 17.083636 \nL 314.486427 17.083636 \nL 314.364633 17.083636 \nL 314.242839 17.083636 \nL 314.121045 17.083636 \nL 313.999251 17.083636 \nL 313.877457 17.083636 \nL 313.755662 17.083636 \nL 313.633868 17.083636 \nL 313.512074 17.083636 \nL 313.39028 17.083636 \nL 313.268486 17.083636 \nL 313.146692 17.083636 \nL 313.024897 17.083636 \nL 312.903103 17.083636 \nL 312.781309 17.083636 \nL 312.659515 17.083636 \nL 312.537721 17.083636 \nL 312.415926 17.083636 \nL 312.294132 17.083636 \nL 312.172338 17.083636 \nL 312.050544 17.083636 \nL 311.92875 17.083636 \nL 311.806956 17.083636 \nL 311.685161 17.083636 \nL 311.563367 17.083636 \nL 311.441573 17.083636 \nL 311.319779 17.083636 \nL 311.197985 17.083636 \nL 311.076191 17.083636 \nL 310.954396 17.083636 \nL 310.832602 17.083636 \nL 310.710808 17.083636 \nL 310.589014 17.083636 \nL 310.46722 17.083636 \nL 310.345426 17.083636 \nL 310.223631 17.083636 \nL 310.101837 17.083636 \nL 309.980043 17.083636 \nL 309.858249 17.083636 \nL 309.736455 17.083636 \nL 309.614661 17.083636 \nL 309.492866 17.083636 \nL 309.371072 17.083636 \nL 309.249278 17.083636 \nL 309.127484 17.083636 \nL 309.00569 17.083636 \nL 308.883895 17.083636 \nL 308.762101 17.083636 \nL 308.640307 17.083636 \nL 308.518513 17.083636 \nL 308.396719 17.083636 \nL 308.274925 17.083636 \nL 308.15313 17.083636 \nL 308.031336 17.083636 \nL 307.909542 17.083636 \nL 307.787748 17.083636 \nL 307.665954 17.083636 \nL 307.54416 17.083636 \nL 307.422365 17.083636 \nL 307.300571 17.083636 \nL 307.178777 17.083636 \nL 307.056983 17.083636 \nL 306.935189 17.083636 \nL 306.813395 17.083636 \nL 306.6916 17.083636 \nL 306.569806 17.083636 \nL 306.448012 17.083636 \nL 306.326218 17.083636 \nL 306.204424 17.083636 \nL 306.08263 17.083636 \nL 305.960835 17.083636 \nL 305.839041 17.083636 \nL 305.717247 17.083636 \nz\n\" clip-path=\"url(#pf2e01afe2f)\" style=\"fill: #ff0000; fill-opacity: 0.25; stroke: #ff0000; stroke-opacity: 0.25\"/>\n   </g>\n   <g id=\"matplotlib.axis_1\">\n    <g id=\"xtick_1\">\n     <g id=\"line2d_1\">\n      <defs>\n       <path id=\"mfdb8cd631f\" d=\"M 0 0 \nL 0 3.5 \n\" style=\"stroke: #000000; stroke-width: 0.8\"/>\n      </defs>\n      <g>\n       <use xlink:href=\"#mfdb8cd631f\" x=\"45.321307\" y=\"224.64\" style=\"stroke: #000000; stroke-width: 0.8\"/>\n      </g>\n     </g>\n     <g id=\"text_1\">\n      <!-- 0 -->\n      <g transform=\"translate(42.140057 239.238437)scale(0.1 -0.1)\">\n       <defs>\n        <path id=\"DejaVuSans-30\" d=\"M 2034 4250 \nQ 1547 4250 1301 3770 \nQ 1056 3291 1056 2328 \nQ 1056 1369 1301 889 \nQ 1547 409 2034 409 \nQ 2525 409 2770 889 \nQ 3016 1369 3016 2328 \nQ 3016 3291 2770 3770 \nQ 2525 4250 2034 4250 \nz\nM 2034 4750 \nQ 2819 4750 3233 4129 \nQ 3647 3509 3647 2328 \nQ 3647 1150 3233 529 \nQ 2819 -91 2034 -91 \nQ 1250 -91 836 529 \nQ 422 1150 422 2328 \nQ 422 3509 836 4129 \nQ 1250 4750 2034 4750 \nz\n\" transform=\"scale(0.015625)\"/>\n       </defs>\n       <use xlink:href=\"#DejaVuSans-30\"/>\n      </g>\n     </g>\n    </g>\n    <g id=\"xtick_2\">\n     <g id=\"line2d_2\">\n      <g>\n       <use xlink:href=\"#mfdb8cd631f\" x=\"106.218393\" y=\"224.64\" style=\"stroke: #000000; stroke-width: 0.8\"/>\n      </g>\n     </g>\n     <g id=\"text_2\">\n      <!-- 500 -->\n      <g transform=\"translate(96.674643 239.238437)scale(0.1 -0.1)\">\n       <defs>\n        <path id=\"DejaVuSans-35\" d=\"M 691 4666 \nL 3169 4666 \nL 3169 4134 \nL 1269 4134 \nL 1269 2991 \nQ 1406 3038 1543 3061 \nQ 1681 3084 1819 3084 \nQ 2600 3084 3056 2656 \nQ 3513 2228 3513 1497 \nQ 3513 744 3044 326 \nQ 2575 -91 1722 -91 \nQ 1428 -91 1123 -41 \nQ 819 9 494 109 \nL 494 744 \nQ 775 591 1075 516 \nQ 1375 441 1709 441 \nQ 2250 441 2565 725 \nQ 2881 1009 2881 1497 \nQ 2881 1984 2565 2268 \nQ 2250 2553 1709 2553 \nQ 1456 2553 1204 2497 \nQ 953 2441 691 2322 \nL 691 4666 \nz\n\" transform=\"scale(0.015625)\"/>\n       </defs>\n       <use xlink:href=\"#DejaVuSans-35\"/>\n       <use xlink:href=\"#DejaVuSans-30\" x=\"63.623047\"/>\n       <use xlink:href=\"#DejaVuSans-30\" x=\"127.246094\"/>\n      </g>\n     </g>\n    </g>\n    <g id=\"xtick_3\">\n     <g id=\"line2d_3\">\n      <g>\n       <use xlink:href=\"#mfdb8cd631f\" x=\"167.115479\" y=\"224.64\" style=\"stroke: #000000; stroke-width: 0.8\"/>\n      </g>\n     </g>\n     <g id=\"text_3\">\n      <!-- 1000 -->\n      <g transform=\"translate(154.390479 239.238437)scale(0.1 -0.1)\">\n       <defs>\n        <path id=\"DejaVuSans-31\" d=\"M 794 531 \nL 1825 531 \nL 1825 4091 \nL 703 3866 \nL 703 4441 \nL 1819 4666 \nL 2450 4666 \nL 2450 531 \nL 3481 531 \nL 3481 0 \nL 794 0 \nL 794 531 \nz\n\" transform=\"scale(0.015625)\"/>\n       </defs>\n       <use xlink:href=\"#DejaVuSans-31\"/>\n       <use xlink:href=\"#DejaVuSans-30\" x=\"63.623047\"/>\n       <use xlink:href=\"#DejaVuSans-30\" x=\"127.246094\"/>\n       <use xlink:href=\"#DejaVuSans-30\" x=\"190.869141\"/>\n      </g>\n     </g>\n    </g>\n    <g id=\"xtick_4\">\n     <g id=\"line2d_4\">\n      <g>\n       <use xlink:href=\"#mfdb8cd631f\" x=\"228.012565\" y=\"224.64\" style=\"stroke: #000000; stroke-width: 0.8\"/>\n      </g>\n     </g>\n     <g id=\"text_4\">\n      <!-- 1500 -->\n      <g transform=\"translate(215.287565 239.238437)scale(0.1 -0.1)\">\n       <use xlink:href=\"#DejaVuSans-31\"/>\n       <use xlink:href=\"#DejaVuSans-35\" x=\"63.623047\"/>\n       <use xlink:href=\"#DejaVuSans-30\" x=\"127.246094\"/>\n       <use xlink:href=\"#DejaVuSans-30\" x=\"190.869141\"/>\n      </g>\n     </g>\n    </g>\n    <g id=\"xtick_5\">\n     <g id=\"line2d_5\">\n      <g>\n       <use xlink:href=\"#mfdb8cd631f\" x=\"288.909651\" y=\"224.64\" style=\"stroke: #000000; stroke-width: 0.8\"/>\n      </g>\n     </g>\n     <g id=\"text_5\">\n      <!-- 2000 -->\n      <g transform=\"translate(276.184651 239.238437)scale(0.1 -0.1)\">\n       <defs>\n        <path id=\"DejaVuSans-32\" d=\"M 1228 531 \nL 3431 531 \nL 3431 0 \nL 469 0 \nL 469 531 \nQ 828 903 1448 1529 \nQ 2069 2156 2228 2338 \nQ 2531 2678 2651 2914 \nQ 2772 3150 2772 3378 \nQ 2772 3750 2511 3984 \nQ 2250 4219 1831 4219 \nQ 1534 4219 1204 4116 \nQ 875 4013 500 3803 \nL 500 4441 \nQ 881 4594 1212 4672 \nQ 1544 4750 1819 4750 \nQ 2544 4750 2975 4387 \nQ 3406 4025 3406 3419 \nQ 3406 3131 3298 2873 \nQ 3191 2616 2906 2266 \nQ 2828 2175 2409 1742 \nQ 1991 1309 1228 531 \nz\n\" transform=\"scale(0.015625)\"/>\n       </defs>\n       <use xlink:href=\"#DejaVuSans-32\"/>\n       <use xlink:href=\"#DejaVuSans-30\" x=\"63.623047\"/>\n       <use xlink:href=\"#DejaVuSans-30\" x=\"127.246094\"/>\n       <use xlink:href=\"#DejaVuSans-30\" x=\"190.869141\"/>\n      </g>\n     </g>\n    </g>\n    <g id=\"xtick_6\">\n     <g id=\"line2d_6\">\n      <g>\n       <use xlink:href=\"#mfdb8cd631f\" x=\"349.806737\" y=\"224.64\" style=\"stroke: #000000; stroke-width: 0.8\"/>\n      </g>\n     </g>\n     <g id=\"text_6\">\n      <!-- 2500 -->\n      <g transform=\"translate(337.081737 239.238437)scale(0.1 -0.1)\">\n       <use xlink:href=\"#DejaVuSans-32\"/>\n       <use xlink:href=\"#DejaVuSans-35\" x=\"63.623047\"/>\n       <use xlink:href=\"#DejaVuSans-30\" x=\"127.246094\"/>\n       <use xlink:href=\"#DejaVuSans-30\" x=\"190.869141\"/>\n      </g>\n     </g>\n    </g>\n   </g>\n   <g id=\"matplotlib.axis_2\">\n    <g id=\"ytick_1\">\n     <g id=\"line2d_7\">\n      <defs>\n       <path id=\"ma168eefcb2\" d=\"M 0 0 \nL -3.5 0 \n\" style=\"stroke: #000000; stroke-width: 0.8\"/>\n      </defs>\n      <g>\n       <use xlink:href=\"#ma168eefcb2\" x=\"30.103125\" y=\"214.756364\" style=\"stroke: #000000; stroke-width: 0.8\"/>\n      </g>\n     </g>\n     <g id=\"text_7\">\n      <!-- 0.0 -->\n      <g transform=\"translate(7.2 218.555582)scale(0.1 -0.1)\">\n       <defs>\n        <path id=\"DejaVuSans-2e\" d=\"M 684 794 \nL 1344 794 \nL 1344 0 \nL 684 0 \nL 684 794 \nz\n\" transform=\"scale(0.015625)\"/>\n       </defs>\n       <use xlink:href=\"#DejaVuSans-30\"/>\n       <use xlink:href=\"#DejaVuSans-2e\" x=\"63.623047\"/>\n       <use xlink:href=\"#DejaVuSans-30\" x=\"95.410156\"/>\n      </g>\n     </g>\n    </g>\n    <g id=\"ytick_2\">\n     <g id=\"line2d_8\">\n      <g>\n       <use xlink:href=\"#ma168eefcb2\" x=\"30.103125\" y=\"175.221818\" style=\"stroke: #000000; stroke-width: 0.8\"/>\n      </g>\n     </g>\n     <g id=\"text_8\">\n      <!-- 0.2 -->\n      <g transform=\"translate(7.2 179.021037)scale(0.1 -0.1)\">\n       <use xlink:href=\"#DejaVuSans-30\"/>\n       <use xlink:href=\"#DejaVuSans-2e\" x=\"63.623047\"/>\n       <use xlink:href=\"#DejaVuSans-32\" x=\"95.410156\"/>\n      </g>\n     </g>\n    </g>\n    <g id=\"ytick_3\">\n     <g id=\"line2d_9\">\n      <g>\n       <use xlink:href=\"#ma168eefcb2\" x=\"30.103125\" y=\"135.687273\" style=\"stroke: #000000; stroke-width: 0.8\"/>\n      </g>\n     </g>\n     <g id=\"text_9\">\n      <!-- 0.4 -->\n      <g transform=\"translate(7.2 139.486491)scale(0.1 -0.1)\">\n       <defs>\n        <path id=\"DejaVuSans-34\" d=\"M 2419 4116 \nL 825 1625 \nL 2419 1625 \nL 2419 4116 \nz\nM 2253 4666 \nL 3047 4666 \nL 3047 1625 \nL 3713 1625 \nL 3713 1100 \nL 3047 1100 \nL 3047 0 \nL 2419 0 \nL 2419 1100 \nL 313 1100 \nL 313 1709 \nL 2253 4666 \nz\n\" transform=\"scale(0.015625)\"/>\n       </defs>\n       <use xlink:href=\"#DejaVuSans-30\"/>\n       <use xlink:href=\"#DejaVuSans-2e\" x=\"63.623047\"/>\n       <use xlink:href=\"#DejaVuSans-34\" x=\"95.410156\"/>\n      </g>\n     </g>\n    </g>\n    <g id=\"ytick_4\">\n     <g id=\"line2d_10\">\n      <g>\n       <use xlink:href=\"#ma168eefcb2\" x=\"30.103125\" y=\"96.152727\" style=\"stroke: #000000; stroke-width: 0.8\"/>\n      </g>\n     </g>\n     <g id=\"text_10\">\n      <!-- 0.6 -->\n      <g transform=\"translate(7.2 99.951946)scale(0.1 -0.1)\">\n       <defs>\n        <path id=\"DejaVuSans-36\" d=\"M 2113 2584 \nQ 1688 2584 1439 2293 \nQ 1191 2003 1191 1497 \nQ 1191 994 1439 701 \nQ 1688 409 2113 409 \nQ 2538 409 2786 701 \nQ 3034 994 3034 1497 \nQ 3034 2003 2786 2293 \nQ 2538 2584 2113 2584 \nz\nM 3366 4563 \nL 3366 3988 \nQ 3128 4100 2886 4159 \nQ 2644 4219 2406 4219 \nQ 1781 4219 1451 3797 \nQ 1122 3375 1075 2522 \nQ 1259 2794 1537 2939 \nQ 1816 3084 2150 3084 \nQ 2853 3084 3261 2657 \nQ 3669 2231 3669 1497 \nQ 3669 778 3244 343 \nQ 2819 -91 2113 -91 \nQ 1303 -91 875 529 \nQ 447 1150 447 2328 \nQ 447 3434 972 4092 \nQ 1497 4750 2381 4750 \nQ 2619 4750 2861 4703 \nQ 3103 4656 3366 4563 \nz\n\" transform=\"scale(0.015625)\"/>\n       </defs>\n       <use xlink:href=\"#DejaVuSans-30\"/>\n       <use xlink:href=\"#DejaVuSans-2e\" x=\"63.623047\"/>\n       <use xlink:href=\"#DejaVuSans-36\" x=\"95.410156\"/>\n      </g>\n     </g>\n    </g>\n    <g id=\"ytick_5\">\n     <g id=\"line2d_11\">\n      <g>\n       <use xlink:href=\"#ma168eefcb2\" x=\"30.103125\" y=\"56.618182\" style=\"stroke: #000000; stroke-width: 0.8\"/>\n      </g>\n     </g>\n     <g id=\"text_11\">\n      <!-- 0.8 -->\n      <g transform=\"translate(7.2 60.417401)scale(0.1 -0.1)\">\n       <defs>\n        <path id=\"DejaVuSans-38\" d=\"M 2034 2216 \nQ 1584 2216 1326 1975 \nQ 1069 1734 1069 1313 \nQ 1069 891 1326 650 \nQ 1584 409 2034 409 \nQ 2484 409 2743 651 \nQ 3003 894 3003 1313 \nQ 3003 1734 2745 1975 \nQ 2488 2216 2034 2216 \nz\nM 1403 2484 \nQ 997 2584 770 2862 \nQ 544 3141 544 3541 \nQ 544 4100 942 4425 \nQ 1341 4750 2034 4750 \nQ 2731 4750 3128 4425 \nQ 3525 4100 3525 3541 \nQ 3525 3141 3298 2862 \nQ 3072 2584 2669 2484 \nQ 3125 2378 3379 2068 \nQ 3634 1759 3634 1313 \nQ 3634 634 3220 271 \nQ 2806 -91 2034 -91 \nQ 1263 -91 848 271 \nQ 434 634 434 1313 \nQ 434 1759 690 2068 \nQ 947 2378 1403 2484 \nz\nM 1172 3481 \nQ 1172 3119 1398 2916 \nQ 1625 2713 2034 2713 \nQ 2441 2713 2670 2916 \nQ 2900 3119 2900 3481 \nQ 2900 3844 2670 4047 \nQ 2441 4250 2034 4250 \nQ 1625 4250 1398 4047 \nQ 1172 3844 1172 3481 \nz\n\" transform=\"scale(0.015625)\"/>\n       </defs>\n       <use xlink:href=\"#DejaVuSans-30\"/>\n       <use xlink:href=\"#DejaVuSans-2e\" x=\"63.623047\"/>\n       <use xlink:href=\"#DejaVuSans-38\" x=\"95.410156\"/>\n      </g>\n     </g>\n    </g>\n    <g id=\"ytick_6\">\n     <g id=\"line2d_12\">\n      <g>\n       <use xlink:href=\"#ma168eefcb2\" x=\"30.103125\" y=\"17.083636\" style=\"stroke: #000000; stroke-width: 0.8\"/>\n      </g>\n     </g>\n     <g id=\"text_12\">\n      <!-- 1.0 -->\n      <g transform=\"translate(7.2 20.882855)scale(0.1 -0.1)\">\n       <use xlink:href=\"#DejaVuSans-31\"/>\n       <use xlink:href=\"#DejaVuSans-2e\" x=\"63.623047\"/>\n       <use xlink:href=\"#DejaVuSans-30\" x=\"95.410156\"/>\n      </g>\n     </g>\n    </g>\n   </g>\n   <g id=\"line2d_13\">\n    <path d=\"M 45.321307 214.756364 \nL 71.872436 214.756364 \nL 71.994231 17.083636 \nL 109.506836 17.083636 \nL 109.62863 214.756364 \nL 166.993685 214.756364 \nL 167.115479 17.083636 \nL 190.012783 17.083636 \nL 190.134578 214.756364 \nL 243.358631 214.756364 \nL 243.480425 17.083636 \nL 292.807065 17.083636 \nL 292.928859 214.756364 \nL 349.684943 214.756364 \nL 349.684943 214.756364 \n\" clip-path=\"url(#pf2e01afe2f)\" style=\"fill: none; stroke: #1f77b4; stroke-width: 1.5; stroke-linecap: square\"/>\n   </g>\n   <g id=\"patch_3\">\n    <path d=\"M 30.103125 224.64 \nL 30.103125 7.2 \n\" style=\"fill: none; stroke: #000000; stroke-width: 0.8; stroke-linejoin: miter; stroke-linecap: square\"/>\n   </g>\n   <g id=\"patch_4\">\n    <path d=\"M 364.903125 224.64 \nL 364.903125 7.2 \n\" style=\"fill: none; stroke: #000000; stroke-width: 0.8; stroke-linejoin: miter; stroke-linecap: square\"/>\n   </g>\n   <g id=\"patch_5\">\n    <path d=\"M 30.103125 224.64 \nL 364.903125 224.64 \n\" style=\"fill: none; stroke: #000000; stroke-width: 0.8; stroke-linejoin: miter; stroke-linecap: square\"/>\n   </g>\n   <g id=\"patch_6\">\n    <path d=\"M 30.103125 7.2 \nL 364.903125 7.2 \n\" style=\"fill: none; stroke: #000000; stroke-width: 0.8; stroke-linejoin: miter; stroke-linecap: square\"/>\n   </g>\n  </g>\n </g>\n <defs>\n  <clipPath id=\"pf2e01afe2f\">\n   <rect x=\"30.103125\" y=\"7.2\" width=\"334.8\" height=\"217.44\"/>\n  </clipPath>\n </defs>\n</svg>\n",
      "text/plain": [
       "<Figure size 432x288 with 1 Axes>"
      ]
     },
     "metadata": {
      "needs_background": "light"
     },
     "output_type": "display_data"
    }
   ],
   "source": [
    "i = np.random.randint(0, Y_test.shape[0])\n",
    "\n",
    "x = np.arange(Y_test.shape[1])\n",
    "plt.fill_between(x, 0, 1, where=Y_test[i]==1, alpha=.25, color='r')\n",
    "plt.plot(Y_test[i+1])"
   ]
  },
  {
   "cell_type": "code",
   "execution_count": 15,
   "metadata": {},
   "outputs": [
    {
     "data": {
      "text/plain": [
       "[54, 548]"
      ]
     },
     "execution_count": 15,
     "metadata": {},
     "output_type": "execute_result"
    }
   ],
   "source": [
    "y_bounds[0]"
   ]
  }
 ],
 "metadata": {
  "kernelspec": {
   "display_name": "Python 3.10.5 ('venv': venv)",
   "language": "python",
   "name": "python3"
  },
  "language_info": {
   "codemirror_mode": {
    "name": "ipython",
    "version": 3
   },
   "file_extension": ".py",
   "mimetype": "text/x-python",
   "name": "python",
   "nbconvert_exporter": "python",
   "pygments_lexer": "ipython3",
   "version": "3.10.5"
  },
  "orig_nbformat": 4,
  "vscode": {
   "interpreter": {
    "hash": "f2e81168015a0a5c8008e335394320bd679b2f22f3ae76c8ab9196c24ab081e8"
   }
  }
 },
 "nbformat": 4,
 "nbformat_minor": 2
}
